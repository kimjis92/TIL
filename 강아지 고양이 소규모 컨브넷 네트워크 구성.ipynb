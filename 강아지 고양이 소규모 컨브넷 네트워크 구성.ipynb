{
 "cells": [
  {
   "cell_type": "code",
   "execution_count": 2,
   "metadata": {},
   "outputs": [],
   "source": [
    "import os, shutil   \n",
    "#os 모듈은 운영 체제와 상호 작용하기위한 수십 가지 함수들을 제공\n",
    "#shutil 파일에 관한 기능을 가지고 있는 함수들을 제공\n",
    "# https://docs.python.org/ko/3/library/shutil.html 여러 파이썬라이브러리함수들을 살펴볼수 있음\n",
    "\n",
    "original_dataset_dir='./datasets/cats_and_dogs/train/train'\n",
    "\n",
    "base_dir='./datasets/cats_and_dogs_small'\n",
    "os.mkdir(base_dir) #  os.mkdir() -->폴더생성\n",
    "\n",
    "train_dir=os.path.join(base_dir, 'train') # os.path.join()--> 경로를 합쳐서 새 경로 생성\n",
    "os.mkdir(train_dir)\n",
    "validation_dir=os.path.join(base_dir, 'validation')\n",
    "os.mkdir(validation_dir)\n",
    "test_dir=os.path.join(base_dir, 'test')\n",
    "os.mkdir(test_dir)\n",
    "\n",
    "train_cats_dir=os.path.join(train_dir, 'cats')\n",
    "os.mkdir(train_cats_dir)\n",
    "\n",
    "train_dogs_dir=os.path.join(train_dir, 'dogs')\n",
    "os.mkdir(train_dogs_dir)\n",
    "\n",
    "validation_cats_dir=os.path.join(validation_dir, 'cats')\n",
    "os.mkdir(validation_cats_dir)\n",
    "\n",
    "validation_dogs_dir=os.path.join(validation_dir, 'dogs')\n",
    "os.mkdir(validation_dogs_dir)\n",
    "\n",
    "test_cats_dir=os.path.join(test_dir, 'cats')\n",
    "os.mkdir(test_cats_dir)\n",
    "\n",
    "test_dogts_dir=os.path.join(test_dir, 'dogs')\n",
    "os.mkdir(test_dogts_dir)\n",
    "\n",
    "fnames =['cat.{}.jpg'.format(i) for i in range(1000)]\n",
    "for fname in fnames:\n",
    "    src=os.path.join(original_dataset_dir, fname)\n",
    "    dst=os.path.join(train_cats_dir, fname)\n",
    "    shutil.copyfile(src, dst) # shutll.copyfile() 는 src파일의 내용을 dst파일에게 복사한다.\n",
    "    \n",
    "fnames =['cat.{}.jpg'.format(i) for i in range(1000, 1500)]\n",
    "for fname in fnames:\n",
    "    src=os.path.join(original_dataset_dir, fname)\n",
    "    dst=os.path.join(validation_cats_dir, fname)\n",
    "    shutil.copyfile(src, dst)\n",
    "    \n",
    "fnames =['cat.{}.jpg'.format(i) for i in range(1500, 2000)]\n",
    "for fname in fnames:\n",
    "    src=os.path.join(original_dataset_dir, fname)\n",
    "    dst=os.path.join(test_cats_dir, fname)\n",
    "    shutil.copyfile(src, dst)\n",
    "\n",
    "#아래는 dog\n",
    "\n",
    "fnames =['dog.{}.jpg'.format(i) for i in range(1000)]\n",
    "for fname in fnames:\n",
    "    src=os.path.join(original_dataset_dir, fname)\n",
    "    dst=os.path.join(train_dogs_dir, fname)\n",
    "    shutil.copyfile(src, dst) # shutll.copyfile() 는 src파일의 내용을 dst파일에게 복사한다.\n",
    "    \n",
    "fnames =['dog.{}.jpg'.format(i) for i in range(1000, 1500)]\n",
    "for fname in fnames:\n",
    "    src=os.path.join(original_dataset_dir, fname)\n",
    "    dst=os.path.join(validation_dogs_dir, fname)\n",
    "    shutil.copyfile(src, dst)\n",
    "    \n",
    "fnames =['dog.{}.jpg'.format(i) for i in range(1500, 2000)]\n",
    "for fname in fnames:\n",
    "    src=os.path.join(original_dataset_dir, fname)\n",
    "    dst=os.path.join(test_dogts_dir, fname)\n",
    "    shutil.copyfile(src, dst)\n",
    "\n"
   ]
  },
  {
   "cell_type": "code",
   "execution_count": 3,
   "metadata": {},
   "outputs": [
    {
     "name": "stdout",
     "output_type": "stream",
     "text": [
      "훈련용 고양이 이미지 전체 개수: 1000\n",
      "훈련용 강아지 이미지 전체 개수: 1000\n",
      "검증용 고양이 이미지 전체 개수: 500\n",
      "검증용 강아지 이미지 전체 개수: 500\n",
      "테스트용 고양이 이미지 전체 개수: 500\n",
      "테스트용 강아지 이미지 전체 개수: 500\n"
     ]
    }
   ],
   "source": [
    "#os.listdir(): 디렉토리 안의 파일, 서브디렉토리 리스트\n",
    "print('훈련용 고양이 이미지 전체 개수:', len(os.listdir(train_cats_dir)))\n",
    "print('훈련용 강아지 이미지 전체 개수:', len(os.listdir(train_dogs_dir)))\n",
    "\n",
    "print('검증용 고양이 이미지 전체 개수:', len(os.listdir(validation_cats_dir)))\n",
    "print('검증용 강아지 이미지 전체 개수:', len(os.listdir(validation_cats_dir)))\n",
    "\n",
    "print('테스트용 고양이 이미지 전체 개수:', len(os.listdir(test_cats_dir))) \n",
    "print('테스트용 강아지 이미지 전체 개수:', len(os.listdir(test_dogts_dir))) \n"
   ]
  },
  {
   "cell_type": "code",
   "execution_count": 7,
   "metadata": {},
   "outputs": [],
   "source": [
    "from keras import layers\n",
    "from keras import models\n",
    "\n",
    "model=models.Sequential()\n",
    "model.add(layers.Conv2D(32, (3, 3), activation='relu',\n",
    "                       input_shape=(150, 150,3)))\n",
    "model.add(layers.MaxPool2D((2,2)))\n",
    "model.add(layers.Conv2D(64, (3, 3), activation='relu'))\n",
    "model.add(layers.MaxPool2D((2,2)))\n",
    "model.add(layers.Conv2D(128, (3, 3), activation='relu'))\n",
    "model.add(layers.MaxPool2D((2,2)))\n",
    "model.add(layers.Conv2D(128, (3, 3), activation='relu'))\n",
    "model.add(layers.MaxPool2D((2,2)))\n",
    "model.add(layers.Flatten())\n",
    "model.add(layers.Dense(512, activation='relu'))   #layers.Dense() : densely-connected NN layer\n",
    "model.add(layers.Dense(1, activation='sigmoid')) "
   ]
  },
  {
   "cell_type": "markdown",
   "metadata": {},
   "source": [
    "## 마지막 레이어에 활성화 함수에 sigmoid 함수를 쓴 이유<br />\n",
    "중간 히든레이어의 활성화 함수에 sigmoid 함수를 쓰면 학습속도 저하 Gradient Vanishing등의 문제가 생긴다. 하지만 마지막레이어에 sigmoid함수를 활성화 함수에 쓰는 이유는 sigmoid함수는 binary classification 에 적절함 함수다. 일정 값을 기준으로 0인지 1인지구분함으로써 분류하는 방식이다. 지금 위의 모델은 강아지와 고양이를 분류하는 binary classification 이므로 마지막 레이어에 sigmoid함수를 활성화 함수에 쓴것이다."
   ]
  },
  {
   "cell_type": "markdown",
   "metadata": {},
   "source": [
    "# actvation 함수들의 이해 \n",
    "### https://reniew.github.io/12/ 사이트를 참조 했습니다.<br />  \n",
    "선형함수인 h(x)=cx를 활성화함수로 사용한 3층 네트워크를 떠올려 보면  y(x)=h(h(h(x)))가 되는데 이는 실은 y(x)=ax와 똑같은 식, a=c3이라고만 하면 끝이다. 즉, 은닉층이 없는 네트워크로 표현할 수 있다. 뉴럴네트워크에서 층을 쌓는 혜택을 얻고 싶다면 활성화함수로는 반드시 비선형 함수를 사용해야 한다.\n",
    "<br />   \n",
    "비선형 함수에는 대표적으로 3가지 함수가 있다.<br />   \n",
    "1.시그모이드 함수(Sigmoid)<br />\n",
    "![Sigmoid 공식](./screenshot/sigfun.png)\n",
    "![Sigmoid 함수](./screenshot/sig.png)\n",
    "![Sigmoid 미분함수](./screenshot/sigder.png)\n",
    "<br/>\n",
    "sigmoid 함수는 초창기에는 많이 쓰였다. 하지만 단점도 있다.<br /> \n",
    "\n",
    "---미분함수의 최대값은 4분의 1로 몇번 레이어를 거치다보면 값은 0에 수렴할 수 있고 절대값이 크면 클수록 역시 0에 수렴한다. 이를 Gradient Vanishing 현상이 발생한다고 한다.\n",
    "\n",
    "<br/>\n",
    "---학습속도가 느리다\n",
    "\n",
    "<br />  \n",
    "2.tanh함수<br />  \n",
    "![Tanh 함수](./screenshot/tanhfun.png)\n",
    "![Tanh 미분함수](./screenshot/tanhder.png)\n",
    "<br />  \n",
    "위의 시그모이드함수의 2번째 단점을 개선했으나 미분함수를 보면 알다시피 Gradient Vanishing 현상을 개선하지는 못했다.\n",
    "<br />  \n",
    "3.relu함수\n",
    "![Relu 함수](./screenshot/relu.png)\n",
    "<br />  \n",
    "relu함수는 위 두함수에 비해 학습속도 개선및 Gradient Vanishing 현상을 어느정도 해결했으나 x<0 인값들에 대해서는 기울기가 0이기 때문에 뉴런이 죽을 수 있는 단점이 존재한다.\n"
   ]
  },
  {
   "cell_type": "markdown",
   "metadata": {},
   "source": []
  }
 ],
 "metadata": {
  "kernelspec": {
   "display_name": "Python 3",
   "language": "python",
   "name": "python3"
  },
  "language_info": {
   "codemirror_mode": {
    "name": "ipython",
    "version": 3
   },
   "file_extension": ".py",
   "mimetype": "text/x-python",
   "name": "python",
   "nbconvert_exporter": "python",
   "pygments_lexer": "ipython3",
   "version": "3.7.3"
  }
 },
 "nbformat": 4,
 "nbformat_minor": 2
}
