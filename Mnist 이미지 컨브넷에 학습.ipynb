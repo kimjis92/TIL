{
 "cells": [
  {
   "cell_type": "markdown",
   "metadata": {},
   "source": [
    "# 간단한 컨브넷 만들기"
   ]
  },
  {
   "cell_type": "code",
   "execution_count": 1,
   "metadata": {},
   "outputs": [
    {
     "name": "stderr",
     "output_type": "stream",
     "text": [
      "Using TensorFlow backend.\n"
     ]
    },
    {
     "name": "stdout",
     "output_type": "stream",
     "text": [
      "WARNING:tensorflow:From C:\\Users\\student\\Anaconda3\\lib\\site-packages\\tensorflow\\python\\framework\\op_def_library.py:263: colocate_with (from tensorflow.python.framework.ops) is deprecated and will be removed in a future version.\n",
      "Instructions for updating:\n",
      "Colocations handled automatically by placer.\n"
     ]
    }
   ],
   "source": [
    "#keras를 아나콘다에서 다운 받아야댐\n",
    "from keras import layers\n",
    "from keras import models\n",
    "import numpy as np\n",
    "import pandas as pd\n",
    "\n",
    "model=models.Sequential() #케라스 레이어 객체 생성\n",
    "model.add(layers.Conv2D(32, (3, 3), activation='relu', input_shape=(28, 28, 1))) # 26 * 26 * 32\n",
    "model.add(layers.MaxPooling2D((2,2)))\n",
    "model.add(layers.Conv2D(64, (3, 3), activation='relu'))\n",
    "model.add(layers.MaxPooling2D((2,2)))\n",
    "model.add(layers.Conv2D(64, (3, 3), activation='relu'))"
   ]
  },
  {
   "cell_type": "code",
   "execution_count": 2,
   "metadata": {},
   "outputs": [
    {
     "name": "stdout",
     "output_type": "stream",
     "text": [
      "_________________________________________________________________\n",
      "Layer (type)                 Output Shape              Param #   \n",
      "=================================================================\n",
      "conv2d_1 (Conv2D)            (None, 26, 26, 32)        320       \n",
      "_________________________________________________________________\n",
      "max_pooling2d_1 (MaxPooling2 (None, 13, 13, 32)        0         \n",
      "_________________________________________________________________\n",
      "conv2d_2 (Conv2D)            (None, 11, 11, 64)        18496     \n",
      "_________________________________________________________________\n",
      "max_pooling2d_2 (MaxPooling2 (None, 5, 5, 64)          0         \n",
      "_________________________________________________________________\n",
      "conv2d_3 (Conv2D)            (None, 3, 3, 64)          36928     \n",
      "=================================================================\n",
      "Total params: 55,744\n",
      "Trainable params: 55,744\n",
      "Non-trainable params: 0\n",
      "_________________________________________________________________\n"
     ]
    }
   ],
   "source": [
    "model.summary()"
   ]
  },
  {
   "cell_type": "code",
   "execution_count": 3,
   "metadata": {},
   "outputs": [],
   "source": [
    "model.add(layers.Flatten()) # fully connected layer\n",
    "model.add(layers.Dense(64, activation='relu'))\n",
    "model.add(layers.Dense(10, activation='softmax'))"
   ]
  },
  {
   "cell_type": "code",
   "execution_count": 4,
   "metadata": {},
   "outputs": [
    {
     "name": "stdout",
     "output_type": "stream",
     "text": [
      "_________________________________________________________________\n",
      "Layer (type)                 Output Shape              Param #   \n",
      "=================================================================\n",
      "conv2d_1 (Conv2D)            (None, 26, 26, 32)        320       \n",
      "_________________________________________________________________\n",
      "max_pooling2d_1 (MaxPooling2 (None, 13, 13, 32)        0         \n",
      "_________________________________________________________________\n",
      "conv2d_2 (Conv2D)            (None, 11, 11, 64)        18496     \n",
      "_________________________________________________________________\n",
      "max_pooling2d_2 (MaxPooling2 (None, 5, 5, 64)          0         \n",
      "_________________________________________________________________\n",
      "conv2d_3 (Conv2D)            (None, 3, 3, 64)          36928     \n",
      "_________________________________________________________________\n",
      "flatten_1 (Flatten)          (None, 576)               0         \n",
      "_________________________________________________________________\n",
      "dense_1 (Dense)              (None, 64)                36928     \n",
      "_________________________________________________________________\n",
      "dense_2 (Dense)              (None, 10)                650       \n",
      "=================================================================\n",
      "Total params: 93,322\n",
      "Trainable params: 93,322\n",
      "Non-trainable params: 0\n",
      "_________________________________________________________________\n"
     ]
    }
   ],
   "source": [
    "model.summary()"
   ]
  },
  {
   "cell_type": "markdown",
   "metadata": {},
   "source": [
    "# Mnist 이미지 컨브넷에 학습"
   ]
  },
  {
   "cell_type": "code",
   "execution_count": 5,
   "metadata": {},
   "outputs": [
    {
     "name": "stdout",
     "output_type": "stream",
     "text": [
      "WARNING:tensorflow:From C:\\Users\\student\\Anaconda3\\lib\\site-packages\\tensorflow\\python\\ops\\math_ops.py:3066: to_int32 (from tensorflow.python.ops.math_ops) is deprecated and will be removed in a future version.\n",
      "Instructions for updating:\n",
      "Use tf.cast instead.\n",
      "Epoch 1/5\n",
      "60000/60000 [==============================] - 19s 320us/step - loss: 0.1807 - acc: 0.9435\n",
      "Epoch 2/5\n",
      "60000/60000 [==============================] - 20s 329us/step - loss: 0.0469 - acc: 0.9853\n",
      "Epoch 3/5\n",
      "60000/60000 [==============================] - 20s 330us/step - loss: 0.0325 - acc: 0.9895\n",
      "Epoch 4/5\n",
      "60000/60000 [==============================] - 20s 329us/step - loss: 0.0235 - acc: 0.9924\n",
      "Epoch 5/5\n",
      "60000/60000 [==============================] - 20s 330us/step - loss: 0.0188 - acc: 0.9942\n",
      "10000/10000 [==============================] - 1s 122us/step\n"
     ]
    },
    {
     "data": {
      "text/plain": [
       "0.9892"
      ]
     },
     "execution_count": 5,
     "metadata": {},
     "output_type": "execute_result"
    }
   ],
   "source": [
    "# keras 함수들과 관련되서는 사이트 https://keras.io/utils/ 에 들어가면 나와있다.\n",
    "from keras.datasets import mnist  #keras.datasets에는 Cifar10의 부분 이미지들과 IMDB,\n",
    "#MNIST, Fashion-MNIST, Boston housing 데이터가 들어있다.\n",
    "from keras.utils import to_categorical # class vector를 이진 행렬로 바꾸어줌,\n",
    "#categorical_crossentrophy 사용을 위해 보통 써줌\n",
    "\n",
    "(train_images, train_labels), (test_images, test_labels)= mnist.load_data()\n",
    "\n",
    "train_images=train_images.reshape((60000, 28, 28, 1)) # 60000만개 데이터를 28* 28* 1 로 받음 (흑백이라)\n",
    "train_images=train_images.astype('float32') / 255  #픽셀은 0~255값이므로 이를 전부 0~1값으로 만들어주기위해 \n",
    "\n",
    "test_images=test_images.reshape((10000, 28, 28, 1))\n",
    "test_images=test_images.astype('float32') / 255\n",
    "\n",
    "train_labels=to_categorical(train_labels)\n",
    "test_labels=to_categorical(test_labels)\n",
    "\n",
    "model.compile(optimizer='rmsprop',  #학습시킬 모델에 대해 정해주는것\n",
    "             loss='categorical_crossentropy',   #\n",
    "             metrics=['accuracy'])              # 메트릭스는 결과가 몇개인지를 나타낼때\n",
    " #결과가 2개일때 ex)metrics={'output_a': 'accuracy', 'output_b': ['accuracy', 'mse']} \n",
    "\n",
    "model.fit(train_images, train_labels, epochs=5, batch_size=64)\n",
    "# epochs 는 전체의 학습과정 수, batch_size는 한번 그레디언트 업데이트할때까지 입력샘플수\n",
    "\n",
    "test_loss, test_acc=model.evaluate(test_images, test_labels) # ()안의 자료들의 로스값과 매트릭스값 반환\n",
    "test_loss\n",
    "test_acc"
   ]
  },
  {
   "cell_type": "code",
   "execution_count": 7,
   "metadata": {},
   "outputs": [
    {
     "data": {
      "text/plain": [
       "0.033060991139275936"
      ]
     },
     "execution_count": 7,
     "metadata": {},
     "output_type": "execute_result"
    }
   ],
   "source": [
    "test_loss"
   ]
  },
  {
   "cell_type": "code",
   "execution_count": 8,
   "metadata": {},
   "outputs": [],
   "source": [
    "model_no_max_pool=models.Sequential()\n",
    "model_no_max_pool.add(layers.Conv2D(32, (3, 3), activtivation='relu', input_shape=(28, 28, 1)))\n",
    "model_no_max_pool.add(layers.Conv2D(64, (3, 3), activation='relu'))\n",
    "model_no_max_pool.add(layers.Conv2D(64, (3, 3), activation='relu'))"
   ]
  },
  {
   "cell_type": "code",
   "execution_count": 9,
   "metadata": {},
   "outputs": [
    {
     "name": "stdout",
     "output_type": "stream",
     "text": [
      "_________________________________________________________________\n",
      "Layer (type)                 Output Shape              Param #   \n",
      "=================================================================\n",
      "conv2d_4 (Conv2D)            (None, 26, 26, 32)        320       \n",
      "_________________________________________________________________\n",
      "conv2d_5 (Conv2D)            (None, 24, 24, 64)        18496     \n",
      "_________________________________________________________________\n",
      "conv2d_6 (Conv2D)            (None, 22, 22, 64)        36928     \n",
      "=================================================================\n",
      "Total params: 55,744\n",
      "Trainable params: 55,744\n",
      "Non-trainable params: 0\n",
      "_________________________________________________________________\n"
     ]
    }
   ],
   "source": [
    "model_no_max_pool.summary()"
   ]
  },
  {
   "cell_type": "markdown",
   "metadata": {},
   "source": [
    "### 최대 풀링 쓰는 이유 위 model_no_max_pool 모델을 보면서 이해 \n",
    "1. 특성의 공간적 계층 구조 학습을 못하고 초기 입력의 7 by 7 윈도우 영역에 대한 정보만 담고있다.-> (28, 28, 3)이 3 by 3 윈도우 두번을 거치면서 (22, 22, 64)가 되었는데 이는 처음에 7 by 7 윈도우를\n",
    "한번 거친것과 같다. 즉 패턴정보가 많이 부족\n",
    "\n",
    "\n",
    "2. 다운 샘플링을 통해 가충치수를 줄이고 특징을 추출하여 대체함 이를 안할시 가중치가 너무 많아서 계산량도 많고 심각한 오버피팅이 일어날것임\n",
    "\n",
    "\n",
    "#### 그렇다면 왜 풀링의 종류가 많은대 최대 풀링을 쓸까?\n",
    "최대풀링이 어떤 패턴이나 개념의 존재여부를 잘 나타내고 잘 작동하기 때문"
   ]
  },
  {
   "cell_type": "code",
   "execution_count": null,
   "metadata": {},
   "outputs": [],
   "source": []
  }
 ],
 "metadata": {
  "kernelspec": {
   "display_name": "Python 3",
   "language": "python",
   "name": "python3"
  },
  "language_info": {
   "codemirror_mode": {
    "name": "ipython",
    "version": 3
   },
   "file_extension": ".py",
   "mimetype": "text/x-python",
   "name": "python",
   "nbconvert_exporter": "python",
   "pygments_lexer": "ipython3",
   "version": "3.7.3"
  }
 },
 "nbformat": 4,
 "nbformat_minor": 2
}
