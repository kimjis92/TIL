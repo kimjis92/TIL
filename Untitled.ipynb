{
 "cells": [
  {
   "cell_type": "code",
   "execution_count": 1,
   "metadata": {},
   "outputs": [],
   "source": [
    "import os, shutil   \n",
    "#os 모듈은 운영 체제와 상호 작용하기위한 수십 가지 함수들을 제공\n",
    "#shutil 파일에 관한 기능을 가지고 있는 함수들을 제공\n",
    "# https://docs.python.org/ko/3/library/shutil.html 여러 파이썬라이브러리함수들을 살펴볼수 있음\n",
    " \n",
    "original_dataset_dir='./image/image'\n",
    "\n",
    "base_dir='./datasets/Processed_Images'\n",
    "#os.mkdir(base_dir) #  os.mkdir() -->폴더생성\n",
    "\n",
    "train_dir=os.path.join(base_dir, 'train') # os.path.join()--> 경로를 합쳐서 새 경로 생성\n",
    "#os.mkdir(train_dir)\n",
    "validation_dir=os.path.join(base_dir, 'validation')\n",
    "#os.mkdir(validation_dir)\n",
    "test_dir=os.path.join(base_dir, 'test')\n",
    "#os.mkdir(test_dir)\n",
    "\n",
    "train_creig_dir=os.path.join(train_dir, 'creig')\n",
    "#os.mkdir(train_creig_dir)\n",
    "\n",
    "train_evans_dir=os.path.join(train_dir, 'evans')\n",
    "#os.mkdir(train_evans_dir)\n",
    "train_creig_dir=os.path.join(train_dir, 'chirstopher')\n",
    "train_creig_dir=os.path.join(train_dir, 'michael')\n",
    "train_creig_dir=os.path.join(train_dir, 'stanfield')\n",
    "train_creig_dir=os.path.join(train_dir, 'toni')\n",
    "train_creig_dir=os.path.join(train_dir, 'unknown')\n",
    "\n",
    "validation_creig_dir=os.path.join(validation_dir, 'creig')\n",
    "#os.mkdir(validation_creig_dir)\n",
    "\n",
    "validation_evans_dir=os.path.join(validation_dir, 'evnas')\n",
    "#os.mkdir(validation_evans_dir)\n",
    "validation_evans_dir=os.path.join(validation_dir, 'chirstopher')\n",
    "validation_evans_dir=os.path.join(validation_dir, 'michael')\n",
    "validation_evans_dir=os.path.join(validation_dir, 'stanfield')\n",
    "validation_evans_dir=os.path.join(validation_dir, 'toni')\n",
    "validation_evans_dir=os.path.join(validation_dir, 'unknown')\n",
    "\n",
    "\n",
    "test_creig_dir=os.path.join(test_dir, 'creig')\n",
    "#os.mkdir(test_creig_dir)\n",
    "\n",
    "test_evans_dir=os.path.join(test_dir, 'evans')\n",
    "#os.mkdir(test_evans_dir)\n",
    "test_evans_dir=os.path.join(test_dir, 'chirstopher')\n",
    "test_evans_dir=os.path.join(test_dir, 'michael')\n",
    "test_evans_dir=os.path.join(test_dir, 'stanfield')\n",
    "test_evans_dir=os.path.join(test_dir, 'toni')\n",
    "test_evans_dir=os.path.join(test_dir, 'unknown')\n",
    "\n",
    "\n",
    "# fnames =['Daniel Craig{}.png'.format(i) for i in range(200)]\n",
    "# for fname in fnames:\n",
    "#     try:\n",
    "#         src=os.path.join(original_dataset_dir, fname)\n",
    "#         dst=os.path.join(train_cats_dir, fname)\n",
    "#         shutil.copyfile(src, dst) # shutll.copyfile() 는 src파일의 내용을 dst파일에게 복사한다.\n",
    "#     except:\n",
    "#         print(\"{}가 없습니다\".format(fname))\n",
    "    \n",
    "# fnames =['Daniel Craig{}.png'.format(i) for i in range(200, 300)]\n",
    "# for fname in fnames:\n",
    "#     try:\n",
    "#         src=os.path.join(original_dataset_dir, fname)\n",
    "#         dst=os.path.join(validation_cats_dir, fname)\n",
    "#         shutil.copyfile(src, dst)\n",
    "    \n",
    "#     except:\n",
    "#         print(\"{}가 없습니다\".format(fname))\n",
    "    \n",
    "# fnames =['Daniel Craig{}.png'.format(i) for i in range(300, 400)]\n",
    "# for fname in fnames:\n",
    "#     try:\n",
    "#         src=os.path.join(original_dataset_dir, fname)\n",
    "#         dst=os.path.join(test_cats_dir, fname)\n",
    "#         shutil.copyfile(src, dst)\n",
    "\n",
    "#     except:\n",
    "#          print(\"{}가 없습니다\".format(fname))\n",
    "# #아래는 evans\n",
    "\n",
    "# fnames =['Chris Evans{}.png'.format(i) for i in range(138)]\n",
    "# for fname in fnames:\n",
    "#     try:\n",
    "#         src=os.path.join(original_dataset_dir, fname)\n",
    "#         dst=os.path.join(train_dogs_dir, fname)\n",
    "#         shutil.copyfile(src, dst) # shutll.copyfile() 는 src파일의 내용을 dst파일에게 복사한다.\n",
    "    \n",
    "#     except:\n",
    "#         print(\"{}가 없습니다\".format(fname))\n",
    "        \n",
    "# fnames =['Chris Evans{}.png'.format(i) for i in range(138, 200)]\n",
    "# for fname in fnames:\n",
    "#     try:\n",
    "#         src=os.path.join(original_dataset_dir, fname)\n",
    "#         dst=os.path.join(validation_dogs_dir, fname)\n",
    "#         shutil.copyfile(src, dst)\n",
    "    \n",
    "#     except:\n",
    "#          print(\"{}가 없습니다\".format(fname))\n",
    "    \n",
    "# fnames =['Chris Evans{}.png'.format(i) for i in range(200, 274)]\n",
    "# for fname in fnames:\n",
    "#     try:\n",
    "#         src=os.path.join(original_dataset_dir, fname)\n",
    "#         dst=os.path.join(validation_dogs_dir, fname)\n",
    "#         shutil.copyfile(src, dst)\n",
    "    \n",
    "#     except:\n",
    "#          print(\"{}가 없습니다\".format(fname))\n",
    "    \n",
    "\n"
   ]
  },
  {
   "cell_type": "code",
   "execution_count": 2,
   "metadata": {},
   "outputs": [
    {
     "name": "stdout",
     "output_type": "stream",
     "text": [
      "훈련용 creig 이미지 전체 개수: 161\n",
      "훈련용 evans 이미지 전체 개수: 278\n",
      "검증용 creig 이미지 전체 개수: 36\n",
      "검증용 evans 이미지 전체 개수: 72\n",
      "테스트용 creig 이미지 전체 개수: 38\n",
      "테스트용 evans 이미지 전체 개수: 80\n"
     ]
    }
   ],
   "source": [
    "#creig 이미지 전체 개수 400, evans 이미지 전체 개수 274\n",
    "\n",
    "\n",
    "print('훈련용 creig 이미지 전체 개수:', len(os.listdir(train_creig_dir)))\n",
    "print('훈련용 evans 이미지 전체 개수:', len(os.listdir(train_evans_dir)))\n",
    "\n",
    "print('검증용 creig 이미지 전체 개수:', len(os.listdir(validation_creig_dir)))\n",
    "print('검증용 evans 이미지 전체 개수:', len(os.listdir(validation_evans_dir)))\n",
    "\n",
    "print('테스트용 creig 이미지 전체 개수:', len(os.listdir(test_creig_dir))) \n",
    "print('테스트용 evans 이미지 전체 개수:', len(os.listdir(test_evans_dir))) \n"
   ]
  },
  {
   "cell_type": "code",
   "execution_count": 2,
   "metadata": {},
   "outputs": [
    {
     "name": "stderr",
     "output_type": "stream",
     "text": [
      "Using TensorFlow backend.\n"
     ]
    },
    {
     "name": "stdout",
     "output_type": "stream",
     "text": [
      "WARNING:tensorflow:From C:\\Users\\student\\Anaconda3\\lib\\site-packages\\tensorflow\\python\\framework\\op_def_library.py:263: colocate_with (from tensorflow.python.framework.ops) is deprecated and will be removed in a future version.\n",
      "Instructions for updating:\n",
      "Colocations handled automatically by placer.\n",
      "WARNING:tensorflow:From C:\\Users\\student\\Anaconda3\\lib\\site-packages\\keras\\backend\\tensorflow_backend.py:3445: calling dropout (from tensorflow.python.ops.nn_ops) with keep_prob is deprecated and will be removed in a future version.\n",
      "Instructions for updating:\n",
      "Please use `rate` instead of `keep_prob`. Rate should be set to `rate = 1 - keep_prob`.\n"
     ]
    }
   ],
   "source": [
    "from keras import layers\n",
    "from keras import models\n",
    "\n",
    "model=models.Sequential()\n",
    "model.add(layers.Conv2D(32, (3, 3), activation='relu',\n",
    "                       input_shape=(150, 150,3)))\n",
    "model.add(layers.MaxPool2D((2,2)))\n",
    "model.add(layers.Conv2D(64, (3, 3), activation='relu'))\n",
    "model.add(layers.MaxPool2D((2,2)))\n",
    "model.add(layers.Conv2D(128, (3, 3), activation='relu'))\n",
    "model.add(layers.MaxPool2D((2,2)))\n",
    "model.add(layers.Conv2D(128, (3, 3), activation='relu'))\n",
    "model.add(layers.MaxPool2D((2,2)))\n",
    "model.add(layers.Flatten())\n",
    "model.add(layers.Dense(512, activation='relu')) #layers.Dense() : densely-connected NN layer\n",
    "model.add(layers.Dense(256, activation='relu'))\n",
    "model.add(layers.Dense(128, activation='relu'))\n",
    "model.add(layers.Dense(64, activation='relu'))\n",
    "model.add(layers.Dropout(0.5)) #드롭아웃 사용여부\n",
    "model.add(layers.Dense(7, activation='softmax')) "
   ]
  },
  {
   "cell_type": "code",
   "execution_count": 3,
   "metadata": {},
   "outputs": [
    {
     "name": "stdout",
     "output_type": "stream",
     "text": [
      "_________________________________________________________________\n",
      "Layer (type)                 Output Shape              Param #   \n",
      "=================================================================\n",
      "conv2d_1 (Conv2D)            (None, 148, 148, 32)      896       \n",
      "_________________________________________________________________\n",
      "max_pooling2d_1 (MaxPooling2 (None, 74, 74, 32)        0         \n",
      "_________________________________________________________________\n",
      "conv2d_2 (Conv2D)            (None, 72, 72, 64)        18496     \n",
      "_________________________________________________________________\n",
      "max_pooling2d_2 (MaxPooling2 (None, 36, 36, 64)        0         \n",
      "_________________________________________________________________\n",
      "conv2d_3 (Conv2D)            (None, 34, 34, 128)       73856     \n",
      "_________________________________________________________________\n",
      "max_pooling2d_3 (MaxPooling2 (None, 17, 17, 128)       0         \n",
      "_________________________________________________________________\n",
      "conv2d_4 (Conv2D)            (None, 15, 15, 128)       147584    \n",
      "_________________________________________________________________\n",
      "max_pooling2d_4 (MaxPooling2 (None, 7, 7, 128)         0         \n",
      "_________________________________________________________________\n",
      "flatten_1 (Flatten)          (None, 6272)              0         \n",
      "_________________________________________________________________\n",
      "dense_1 (Dense)              (None, 512)               3211776   \n",
      "_________________________________________________________________\n",
      "dense_2 (Dense)              (None, 256)               131328    \n",
      "_________________________________________________________________\n",
      "dense_3 (Dense)              (None, 128)               32896     \n",
      "_________________________________________________________________\n",
      "dense_4 (Dense)              (None, 64)                8256      \n",
      "_________________________________________________________________\n",
      "dropout_1 (Dropout)          (None, 64)                0         \n",
      "_________________________________________________________________\n",
      "dense_5 (Dense)              (None, 7)                 455       \n",
      "=================================================================\n",
      "Total params: 3,625,543\n",
      "Trainable params: 3,625,543\n",
      "Non-trainable params: 0\n",
      "_________________________________________________________________\n"
     ]
    }
   ],
   "source": [
    "model.summary()"
   ]
  },
  {
   "cell_type": "markdown",
   "metadata": {},
   "source": [
    "# 일반 컨브넷"
   ]
  },
  {
   "cell_type": "code",
   "execution_count": 4,
   "metadata": {},
   "outputs": [],
   "source": [
    "from keras import optimizers\n",
    "\n",
    "model.compile(loss='categorical_crossentropy',\n",
    "             optimizer='adam',\n",
    "             metrics=['acc'])"
   ]
  },
  {
   "cell_type": "code",
   "execution_count": 6,
   "metadata": {},
   "outputs": [
    {
     "name": "stdout",
     "output_type": "stream",
     "text": [
      "Found 1470 images belonging to 7 classes.\n",
      "Found 535 images belonging to 7 classes.\n"
     ]
    }
   ],
   "source": [
    "from keras.preprocessing.image import ImageDataGenerator\n",
    "\n",
    "train_datagen=ImageDataGenerator(rescale=1./255)\n",
    "test_datagen=ImageDataGenerator(rescale=1./255)\n",
    "\n",
    "train_generator=train_datagen.flow_from_directory(\n",
    "        train_dir,\n",
    "        target_size=(150, 150),\n",
    "        batch_size=20,\n",
    "        class_mode='categorical')\n",
    "\n",
    "validation_generator=test_datagen.flow_from_directory(\n",
    "        validation_dir,\n",
    "        target_size=(150, 150),\n",
    "        batch_size=20,\n",
    "        class_mode='categorical')"
   ]
  },
  {
   "cell_type": "code",
   "execution_count": 92,
   "metadata": {},
   "outputs": [
    {
     "name": "stdout",
     "output_type": "stream",
     "text": [
      "Epoch 1/30\n",
      "100/100 [==============================] - 33s 330ms/step - loss: 1.9030 - acc: 0.2135 - val_loss: 1.9965 - val_acc: 0.0704\n",
      "Epoch 2/30\n",
      "100/100 [==============================] - 32s 318ms/step - loss: 1.7691 - acc: 0.2990 - val_loss: 1.5979 - val_acc: 0.3990\n",
      "Epoch 3/30\n",
      "100/100 [==============================] - 32s 321ms/step - loss: 1.2936 - acc: 0.5350 - val_loss: 1.0712 - val_acc: 0.5768\n",
      "Epoch 4/30\n",
      "100/100 [==============================] - 32s 323ms/step - loss: 0.8592 - acc: 0.7165 - val_loss: 1.3451 - val_acc: 0.6475\n",
      "Epoch 5/30\n",
      "100/100 [==============================] - 32s 322ms/step - loss: 0.6352 - acc: 0.8100 - val_loss: 0.8391 - val_acc: 0.7677\n",
      "Epoch 6/30\n",
      "100/100 [==============================] - 32s 323ms/step - loss: 0.4247 - acc: 0.8650 - val_loss: 0.9402 - val_acc: 0.7626\n",
      "Epoch 7/30\n",
      "100/100 [==============================] - 32s 324ms/step - loss: 0.3016 - acc: 0.9075 - val_loss: 0.7954 - val_acc: 0.8121\n",
      "Epoch 8/30\n",
      "100/100 [==============================] - 32s 323ms/step - loss: 0.2630 - acc: 0.9145 - val_loss: 0.6994 - val_acc: 0.8182\n",
      "Epoch 9/30\n",
      "100/100 [==============================] - 32s 325ms/step - loss: 0.2153 - acc: 0.9385 - val_loss: 0.7294 - val_acc: 0.8444\n",
      "Epoch 10/30\n",
      "100/100 [==============================] - 33s 325ms/step - loss: 0.1577 - acc: 0.9565 - val_loss: 0.9192 - val_acc: 0.8263\n",
      "Epoch 11/30\n",
      "100/100 [==============================] - 32s 324ms/step - loss: 0.1148 - acc: 0.9660 - val_loss: 0.6370 - val_acc: 0.8727\n",
      "Epoch 12/30\n",
      "100/100 [==============================] - 32s 322ms/step - loss: 0.1605 - acc: 0.9560 - val_loss: 0.8825 - val_acc: 0.8293\n",
      "Epoch 13/30\n",
      "100/100 [==============================] - 41s 413ms/step - loss: 0.1562 - acc: 0.9560 - val_loss: 0.7394 - val_acc: 0.8384\n",
      "Epoch 14/30\n",
      "100/100 [==============================] - 42s 419ms/step - loss: 0.0748 - acc: 0.9780 - val_loss: 1.2188 - val_acc: 0.7688\n",
      "Epoch 15/30\n",
      "100/100 [==============================] - 41s 412ms/step - loss: 0.1117 - acc: 0.9670 - val_loss: 1.1292 - val_acc: 0.7929\n",
      "Epoch 16/30\n",
      "100/100 [==============================] - 41s 411ms/step - loss: 0.0360 - acc: 0.9915 - val_loss: 1.0401 - val_acc: 0.8313\n",
      "Epoch 17/30\n",
      "100/100 [==============================] - 40s 398ms/step - loss: 0.0465 - acc: 0.9920 - val_loss: 0.7422 - val_acc: 0.8515\n",
      "Epoch 18/30\n",
      "100/100 [==============================] - 32s 322ms/step - loss: 0.0102 - acc: 0.9975 - val_loss: 1.2691 - val_acc: 0.8323\n",
      "Epoch 19/30\n",
      "100/100 [==============================] - 32s 323ms/step - loss: 0.0501 - acc: 0.9885 - val_loss: 0.9028 - val_acc: 0.8657\n",
      "Epoch 20/30\n",
      "100/100 [==============================] - 32s 323ms/step - loss: 0.1198 - acc: 0.9670 - val_loss: 0.8800 - val_acc: 0.8364\n",
      "Epoch 21/30\n",
      "100/100 [==============================] - 32s 324ms/step - loss: 0.0479 - acc: 0.9865 - val_loss: 1.2835 - val_acc: 0.8452\n",
      "Epoch 22/30\n",
      "100/100 [==============================] - 32s 323ms/step - loss: 0.0322 - acc: 0.9925 - val_loss: 1.1689 - val_acc: 0.8343\n",
      "Epoch 23/30\n",
      "100/100 [==============================] - 32s 321ms/step - loss: 0.0096 - acc: 0.9975 - val_loss: 1.2628 - val_acc: 0.8465\n",
      "Epoch 24/30\n",
      "100/100 [==============================] - 32s 322ms/step - loss: 0.0345 - acc: 0.9915 - val_loss: 1.2238 - val_acc: 0.8162\n",
      "Epoch 25/30\n",
      "100/100 [==============================] - 33s 330ms/step - loss: 0.1360 - acc: 0.9720 - val_loss: 1.0792 - val_acc: 0.8242\n",
      "Epoch 26/30\n",
      "100/100 [==============================] - 32s 322ms/step - loss: 0.1071 - acc: 0.9735 - val_loss: 1.1594 - val_acc: 0.8071\n",
      "Epoch 27/30\n",
      "100/100 [==============================] - 32s 323ms/step - loss: 0.0884 - acc: 0.9775 - val_loss: 1.2712 - val_acc: 0.7960\n",
      "Epoch 28/30\n",
      "100/100 [==============================] - 32s 323ms/step - loss: 0.0543 - acc: 0.9895 - val_loss: 1.1415 - val_acc: 0.8231\n",
      "Epoch 29/30\n",
      "100/100 [==============================] - 32s 324ms/step - loss: 0.0594 - acc: 0.9880 - val_loss: 1.5426 - val_acc: 0.7919\n",
      "Epoch 30/30\n",
      "100/100 [==============================] - 32s 323ms/step - loss: 0.0757 - acc: 0.9850 - val_loss: 1.0158 - val_acc: 0.8394\n"
     ]
    }
   ],
   "source": [
    "history=model.fit_generator(\n",
    "    train_generator,\n",
    "    steps_per_epoch=100,\n",
    "    epochs=30,\n",
    "    validation_data=validation_generator,\n",
    "    validation_steps=50)"
   ]
  },
  {
   "cell_type": "code",
   "execution_count": 99,
   "metadata": {},
   "outputs": [],
   "source": [
    "model.save('knaivesmodel.h5')"
   ]
  },
  {
   "cell_type": "code",
   "execution_count": 94,
   "metadata": {},
   "outputs": [
    {
     "data": {
      "image/png": "[encoded data removed]",
      "text/plain": [
       "<Figure size 432x288 with 1 Axes>"
      ]
     },
     "metadata": {
      "needs_background": "light"
     },
     "output_type": "display_data"
    }
   ],
   "source": [
    "import matplotlib.pyplot as plt\n",
    "\n",
    "acc=history.history['acc']\n",
    "val_acc=history.history['val_acc']\n",
    "loss=history.history['loss']\n",
    "val_loss=history.history['val_loss']\n",
    "\n",
    "epochs=range(1, len(acc)+1)\n",
    "\n",
    "plt.plot(epochs, loss, 'bo', label='Training loss')\n",
    "plt.plot(epochs, val_loss, 'b', label='Validation loss')\n",
    "plt.title('Training and validation loss')\n",
    "plt.legend()\n",
    "\n",
    "plt.show()"
   ]
  },
  {
   "cell_type": "markdown",
   "metadata": {},
   "source": [
    "# 데이터아규멘트 사용"
   ]
  },
  {
   "cell_type": "code",
   "execution_count": 5,
   "metadata": {},
   "outputs": [
    {
     "name": "stdout",
     "output_type": "stream",
     "text": [
      "Found 1470 images belonging to 7 classes.\n",
      "Found 535 images belonging to 7 classes.\n"
     ]
    }
   ],
   "source": [
    "from keras.preprocessing.image import ImageDataGenerator\n",
    "\n",
    "train_datagen=ImageDataGenerator(rescale=1./255,\n",
    "                                rotation_range=40,\n",
    "                                width_shift_range=0.2,\n",
    "                                height_shift_range=0.2,\n",
    "                                shear_range=0.2,\n",
    "                                zoom_range=0.2,\n",
    "                                horizontal_flip=True,)\n",
    "test_datagen=ImageDataGenerator(rescale=1./255)\n",
    "\n",
    "train_generator=train_datagen.flow_from_directory(\n",
    "        train_dir,\n",
    "        target_size=(150, 150),\n",
    "        batch_size=32,\n",
    "        class_mode='categorical')\n",
    "\n",
    "validation_generator=test_datagen.flow_from_directory(\n",
    "        validation_dir,\n",
    "        target_size=(150, 150),\n",
    "        batch_size=32,\n",
    "        class_mode='categorical')"
   ]
  },
  {
   "cell_type": "code",
   "execution_count": 6,
   "metadata": {},
   "outputs": [
    {
     "name": "stdout",
     "output_type": "stream",
     "text": [
      "WARNING:tensorflow:From C:\\Users\\student\\Anaconda3\\lib\\site-packages\\tensorflow\\python\\ops\\math_ops.py:3066: to_int32 (from tensorflow.python.ops.math_ops) is deprecated and will be removed in a future version.\n",
      "Instructions for updating:\n",
      "Use tf.cast instead.\n",
      "Epoch 1/100\n",
      "100/100 [==============================] - 48s 481ms/step - loss: 1.9190 - acc: 0.2124 - val_loss: 1.9627 - val_acc: 0.0683\n",
      "Epoch 2/100\n",
      "100/100 [==============================] - 47s 468ms/step - loss: 1.8977 - acc: 0.2105 - val_loss: 1.9387 - val_acc: 0.1017\n",
      "Epoch 3/100\n",
      "100/100 [==============================] - 47s 465ms/step - loss: 1.8505 - acc: 0.2532 - val_loss: 1.9134 - val_acc: 0.1170\n",
      "Epoch 4/100\n",
      "100/100 [==============================] - 47s 469ms/step - loss: 1.8041 - acc: 0.2729 - val_loss: 1.8967 - val_acc: 0.1189\n",
      "Epoch 5/100\n",
      "100/100 [==============================] - 47s 467ms/step - loss: 1.7582 - acc: 0.2774 - val_loss: 1.6549 - val_acc: 0.2454\n",
      "Epoch 6/100\n",
      "100/100 [==============================] - 47s 467ms/step - loss: 1.6868 - acc: 0.3136 - val_loss: 1.7581 - val_acc: 0.1996\n",
      "Epoch 7/100\n",
      "100/100 [==============================] - 47s 469ms/step - loss: 1.6334 - acc: 0.3516 - val_loss: 1.5184 - val_acc: 0.3249\n",
      "Epoch 8/100\n",
      "100/100 [==============================] - 47s 468ms/step - loss: 1.6059 - acc: 0.3740 - val_loss: 1.4936 - val_acc: 0.4437\n",
      "Epoch 9/100\n",
      "100/100 [==============================] - 47s 467ms/step - loss: 1.5513 - acc: 0.4045 - val_loss: 1.3249 - val_acc: 0.5168\n",
      "Epoch 10/100\n",
      "100/100 [==============================] - 47s 466ms/step - loss: 1.4642 - acc: 0.4381 - val_loss: 1.3209 - val_acc: 0.5346\n",
      "Epoch 11/100\n",
      "100/100 [==============================] - 47s 466ms/step - loss: 1.4412 - acc: 0.4631 - val_loss: 1.2763 - val_acc: 0.5372\n",
      "Epoch 12/100\n",
      "100/100 [==============================] - 47s 466ms/step - loss: 1.3900 - acc: 0.4934 - val_loss: 1.1060 - val_acc: 0.6039\n",
      "Epoch 13/100\n",
      "100/100 [==============================] - 47s 465ms/step - loss: 1.3259 - acc: 0.5328 - val_loss: 1.1522 - val_acc: 0.5919\n",
      "Epoch 14/100\n",
      "100/100 [==============================] - 47s 467ms/step - loss: 1.2907 - acc: 0.5366 - val_loss: 1.0662 - val_acc: 0.6186\n",
      "Epoch 15/100\n",
      "100/100 [==============================] - 47s 470ms/step - loss: 1.2822 - acc: 0.5525 - val_loss: 1.0156 - val_acc: 0.6281\n",
      "Epoch 16/100\n",
      "100/100 [==============================] - 47s 469ms/step - loss: 1.1853 - acc: 0.5825 - val_loss: 1.0240 - val_acc: 0.6249\n",
      "Epoch 17/100\n",
      "100/100 [==============================] - 47s 467ms/step - loss: 1.1641 - acc: 0.5964 - val_loss: 1.0008 - val_acc: 0.6338\n",
      "Epoch 18/100\n",
      "100/100 [==============================] - 47s 469ms/step - loss: 1.1435 - acc: 0.6028 - val_loss: 0.9657 - val_acc: 0.7016\n",
      "Epoch 19/100\n",
      "100/100 [==============================] - 47s 468ms/step - loss: 1.0979 - acc: 0.6176 - val_loss: 0.9379 - val_acc: 0.6898\n",
      "Epoch 20/100\n",
      "100/100 [==============================] - 47s 467ms/step - loss: 1.0186 - acc: 0.6553 - val_loss: 0.9756 - val_acc: 0.6548\n",
      "Epoch 21/100\n",
      "100/100 [==============================] - 47s 468ms/step - loss: 0.9755 - acc: 0.6583 - val_loss: 0.9075 - val_acc: 0.6815\n",
      "Epoch 22/100\n",
      "100/100 [==============================] - 47s 468ms/step - loss: 0.9625 - acc: 0.6668 - val_loss: 0.9337 - val_acc: 0.6904\n",
      "Epoch 23/100\n",
      "100/100 [==============================] - 47s 467ms/step - loss: 0.9349 - acc: 0.6860 - val_loss: 0.9215 - val_acc: 0.7044\n",
      "Epoch 24/100\n",
      "100/100 [==============================] - 47s 467ms/step - loss: 0.8657 - acc: 0.7066 - val_loss: 1.0313 - val_acc: 0.6840\n",
      "Epoch 25/100\n",
      "100/100 [==============================] - 47s 468ms/step - loss: 0.9013 - acc: 0.7090 - val_loss: 0.9436 - val_acc: 0.7171\n",
      "Epoch 26/100\n",
      "100/100 [==============================] - 47s 468ms/step - loss: 0.8079 - acc: 0.7277 - val_loss: 0.9415 - val_acc: 0.6917\n",
      "Epoch 27/100\n",
      "100/100 [==============================] - 47s 468ms/step - loss: 0.8072 - acc: 0.7330 - val_loss: 0.7825 - val_acc: 0.7489\n",
      "Epoch 28/100\n",
      "100/100 [==============================] - 47s 469ms/step - loss: 0.7948 - acc: 0.7365 - val_loss: 0.9834 - val_acc: 0.6993\n",
      "Epoch 29/100\n",
      "100/100 [==============================] - 47s 466ms/step - loss: 0.7596 - acc: 0.7507 - val_loss: 0.7885 - val_acc: 0.7775\n",
      "Epoch 30/100\n",
      "100/100 [==============================] - 47s 467ms/step - loss: 0.7639 - acc: 0.7534 - val_loss: 0.9363 - val_acc: 0.7139\n",
      "Epoch 31/100\n",
      "100/100 [==============================] - 47s 466ms/step - loss: 0.7950 - acc: 0.7414 - val_loss: 0.8272 - val_acc: 0.7451\n",
      "Epoch 32/100\n",
      "100/100 [==============================] - 47s 466ms/step - loss: 0.6979 - acc: 0.7731 - val_loss: 0.7765 - val_acc: 0.7578\n",
      "Epoch 33/100\n",
      "100/100 [==============================] - 47s 467ms/step - loss: 0.6967 - acc: 0.7785 - val_loss: 0.7599 - val_acc: 0.7648\n",
      "Epoch 34/100\n",
      "100/100 [==============================] - 47s 468ms/step - loss: 0.6966 - acc: 0.7714 - val_loss: 0.7987 - val_acc: 0.7495\n",
      "Epoch 35/100\n",
      "100/100 [==============================] - 47s 468ms/step - loss: 0.6246 - acc: 0.7990 - val_loss: 0.7938 - val_acc: 0.7604\n",
      "Epoch 36/100\n",
      "100/100 [==============================] - 47s 467ms/step - loss: 0.6482 - acc: 0.7904 - val_loss: 0.9868 - val_acc: 0.7177\n",
      "Epoch 37/100\n",
      "100/100 [==============================] - 47s 469ms/step - loss: 0.6793 - acc: 0.7804 - val_loss: 0.7430 - val_acc: 0.7851\n",
      "Epoch 38/100\n",
      "100/100 [==============================] - 47s 467ms/step - loss: 0.5918 - acc: 0.8031 - val_loss: 0.7384 - val_acc: 0.7788\n",
      "Epoch 39/100\n",
      "100/100 [==============================] - 47s 467ms/step - loss: 0.6061 - acc: 0.8036 - val_loss: 0.7276 - val_acc: 0.7940\n",
      "Epoch 40/100\n",
      "100/100 [==============================] - 47s 468ms/step - loss: 0.5549 - acc: 0.8254 - val_loss: 0.8225 - val_acc: 0.7794\n",
      "Epoch 41/100\n",
      "100/100 [==============================] - 48s 476ms/step - loss: 0.5528 - acc: 0.8178 - val_loss: 0.7462 - val_acc: 0.7947\n",
      "Epoch 42/100\n",
      "100/100 [==============================] - 48s 483ms/step - loss: 0.5632 - acc: 0.8164 - val_loss: 0.7524 - val_acc: 0.7839\n",
      "Epoch 43/100\n",
      "100/100 [==============================] - 48s 480ms/step - loss: 0.5582 - acc: 0.8173 - val_loss: 0.6879 - val_acc: 0.7756\n",
      "Epoch 44/100\n",
      "100/100 [==============================] - 47s 472ms/step - loss: 0.5283 - acc: 0.8335 - val_loss: 0.7984 - val_acc: 0.7921\n",
      "Epoch 45/100\n",
      "100/100 [==============================] - 47s 466ms/step - loss: 0.5366 - acc: 0.8279 - val_loss: 0.7456 - val_acc: 0.7864\n",
      "Epoch 46/100\n",
      "100/100 [==============================] - 47s 470ms/step - loss: 0.5157 - acc: 0.8360 - val_loss: 0.7572 - val_acc: 0.7997\n",
      "Epoch 47/100\n",
      "100/100 [==============================] - 47s 467ms/step - loss: 0.4715 - acc: 0.8457 - val_loss: 0.6612 - val_acc: 0.8061\n",
      "Epoch 48/100\n",
      "100/100 [==============================] - 47s 472ms/step - loss: 0.4972 - acc: 0.8366 - val_loss: 0.7097 - val_acc: 0.8010\n",
      "Epoch 49/100\n",
      "100/100 [==============================] - 47s 472ms/step - loss: 0.4700 - acc: 0.8476 - val_loss: 0.6911 - val_acc: 0.7908\n",
      "Epoch 50/100\n",
      "100/100 [==============================] - 47s 469ms/step - loss: 0.4600 - acc: 0.8583 - val_loss: 0.7452 - val_acc: 0.8029\n",
      "Epoch 51/100\n",
      "100/100 [==============================] - 47s 472ms/step - loss: 0.4652 - acc: 0.8467 - val_loss: 0.6631 - val_acc: 0.8106\n",
      "Epoch 52/100\n",
      "100/100 [==============================] - 47s 469ms/step - loss: 0.4429 - acc: 0.8595 - val_loss: 0.7485 - val_acc: 0.8072\n",
      "Epoch 53/100\n",
      "100/100 [==============================] - 47s 468ms/step - loss: 0.4631 - acc: 0.8508 - val_loss: 0.7095 - val_acc: 0.8048\n",
      "Epoch 54/100\n",
      "100/100 [==============================] - 47s 467ms/step - loss: 0.4593 - acc: 0.8590 - val_loss: 0.7156 - val_acc: 0.7870\n",
      "Epoch 55/100\n",
      "100/100 [==============================] - 47s 467ms/step - loss: 0.4121 - acc: 0.8676 - val_loss: 0.6896 - val_acc: 0.8284\n",
      "Epoch 56/100\n",
      "100/100 [==============================] - 47s 468ms/step - loss: 0.4575 - acc: 0.8561 - val_loss: 0.9362 - val_acc: 0.7737\n",
      "Epoch 57/100\n",
      "100/100 [==============================] - 47s 469ms/step - loss: 0.3900 - acc: 0.8761 - val_loss: 0.7561 - val_acc: 0.8023\n",
      "Epoch 58/100\n",
      "100/100 [==============================] - 47s 468ms/step - loss: 0.3861 - acc: 0.8804 - val_loss: 0.7706 - val_acc: 0.8061\n"
     ]
    },
    {
     "name": "stdout",
     "output_type": "stream",
     "text": [
      "Epoch 59/100\n",
      "100/100 [==============================] - 47s 466ms/step - loss: 0.4146 - acc: 0.8689 - val_loss: 0.9077 - val_acc: 0.7661\n",
      "Epoch 60/100\n",
      "100/100 [==============================] - 47s 472ms/step - loss: 0.4196 - acc: 0.8649 - val_loss: 0.8803 - val_acc: 0.7769\n",
      "Epoch 61/100\n",
      "100/100 [==============================] - 47s 467ms/step - loss: 0.3981 - acc: 0.8710 - val_loss: 0.7309 - val_acc: 0.8106\n",
      "Epoch 62/100\n",
      "100/100 [==============================] - 47s 470ms/step - loss: 0.3943 - acc: 0.8766 - val_loss: 0.7242 - val_acc: 0.8309\n",
      "Epoch 63/100\n",
      "100/100 [==============================] - 47s 469ms/step - loss: 0.4214 - acc: 0.8644 - val_loss: 0.8272 - val_acc: 0.7953\n",
      "Epoch 64/100\n",
      "100/100 [==============================] - 47s 473ms/step - loss: 0.3932 - acc: 0.8782 - val_loss: 0.7881 - val_acc: 0.8233\n",
      "Epoch 65/100\n",
      "100/100 [==============================] - 47s 470ms/step - loss: 0.3534 - acc: 0.8836 - val_loss: 0.8608 - val_acc: 0.7966\n",
      "Epoch 66/100\n",
      "100/100 [==============================] - 46s 461ms/step - loss: 0.4099 - acc: 0.8729 - val_loss: 0.8056 - val_acc: 0.8188\n",
      "Epoch 67/100\n",
      "100/100 [==============================] - 46s 458ms/step - loss: 0.3438 - acc: 0.8839 - val_loss: 0.8404 - val_acc: 0.7889\n",
      "Epoch 68/100\n",
      "100/100 [==============================] - 46s 458ms/step - loss: 0.3855 - acc: 0.8780 - val_loss: 0.7050 - val_acc: 0.8207\n",
      "Epoch 69/100\n",
      "100/100 [==============================] - 46s 459ms/step - loss: 0.3416 - acc: 0.8960 - val_loss: 0.8866 - val_acc: 0.8085\n",
      "Epoch 70/100\n",
      "100/100 [==============================] - 46s 461ms/step - loss: 0.3704 - acc: 0.8814 - val_loss: 0.7541 - val_acc: 0.8214\n",
      "Epoch 71/100\n",
      "100/100 [==============================] - 47s 467ms/step - loss: 0.3635 - acc: 0.8807 - val_loss: 0.7993 - val_acc: 0.7959\n",
      "Epoch 72/100\n",
      "100/100 [==============================] - 47s 466ms/step - loss: 0.3352 - acc: 0.8921 - val_loss: 0.7645 - val_acc: 0.8207\n",
      "Epoch 73/100\n",
      "100/100 [==============================] - 47s 467ms/step - loss: 0.3571 - acc: 0.8845 - val_loss: 0.6641 - val_acc: 0.8233\n",
      "Epoch 74/100\n",
      "100/100 [==============================] - 47s 472ms/step - loss: 0.3287 - acc: 0.8914 - val_loss: 0.7731 - val_acc: 0.7985\n",
      "Epoch 75/100\n",
      "100/100 [==============================] - 46s 461ms/step - loss: 0.3322 - acc: 0.9005 - val_loss: 0.7038 - val_acc: 0.8271\n",
      "Epoch 76/100\n",
      "100/100 [==============================] - 46s 459ms/step - loss: 0.3193 - acc: 0.8999 - val_loss: 0.6365 - val_acc: 0.8169\n",
      "Epoch 77/100\n",
      "100/100 [==============================] - 46s 458ms/step - loss: 0.3396 - acc: 0.8929 - val_loss: 0.8034 - val_acc: 0.8290\n",
      "Epoch 78/100\n",
      "100/100 [==============================] - 46s 459ms/step - loss: 0.3479 - acc: 0.8871 - val_loss: 0.6770 - val_acc: 0.8373\n",
      "Epoch 79/100\n",
      "100/100 [==============================] - 46s 460ms/step - loss: 0.3309 - acc: 0.8961 - val_loss: 0.6092 - val_acc: 0.8436\n",
      "Epoch 80/100\n",
      "100/100 [==============================] - 46s 458ms/step - loss: 0.2940 - acc: 0.9033 - val_loss: 0.7186 - val_acc: 0.8252\n",
      "Epoch 81/100\n",
      "100/100 [==============================] - 46s 457ms/step - loss: 0.3055 - acc: 0.9047 - val_loss: 0.8610 - val_acc: 0.8245\n",
      "Epoch 82/100\n",
      "100/100 [==============================] - 46s 457ms/step - loss: 0.3178 - acc: 0.8999 - val_loss: 0.7843 - val_acc: 0.8258\n",
      "Epoch 83/100\n",
      "100/100 [==============================] - 47s 467ms/step - loss: 0.3205 - acc: 0.8992 - val_loss: 0.7480 - val_acc: 0.8315\n",
      "Epoch 84/100\n",
      "100/100 [==============================] - 47s 467ms/step - loss: 0.3087 - acc: 0.9071 - val_loss: 0.7338 - val_acc: 0.8258\n",
      "Epoch 85/100\n",
      "100/100 [==============================] - 47s 468ms/step - loss: 0.2979 - acc: 0.9090 - val_loss: 0.6836 - val_acc: 0.8392\n",
      "Epoch 86/100\n",
      "100/100 [==============================] - 47s 465ms/step - loss: 0.3019 - acc: 0.9086 - val_loss: 0.7685 - val_acc: 0.8464\n",
      "Epoch 87/100\n",
      "100/100 [==============================] - 47s 468ms/step - loss: 0.2706 - acc: 0.9164 - val_loss: 0.7734 - val_acc: 0.8309\n",
      "Epoch 88/100\n",
      "100/100 [==============================] - 47s 467ms/step - loss: 0.2944 - acc: 0.9120 - val_loss: 0.7601 - val_acc: 0.8538\n",
      "Epoch 89/100\n",
      "100/100 [==============================] - 47s 466ms/step - loss: 0.2978 - acc: 0.9064 - val_loss: 0.7634 - val_acc: 0.8322\n",
      "Epoch 90/100\n",
      "100/100 [==============================] - 47s 467ms/step - loss: 0.2799 - acc: 0.9136 - val_loss: 0.8393 - val_acc: 0.8125\n",
      "Epoch 91/100\n",
      "100/100 [==============================] - 47s 471ms/step - loss: 0.2961 - acc: 0.9084 - val_loss: 0.7992 - val_acc: 0.8385\n",
      "Epoch 92/100\n",
      "100/100 [==============================] - 47s 467ms/step - loss: 0.2669 - acc: 0.9158 - val_loss: 0.8896 - val_acc: 0.8163\n",
      "Epoch 93/100\n",
      "100/100 [==============================] - 47s 469ms/step - loss: 0.2977 - acc: 0.9052 - val_loss: 0.7008 - val_acc: 0.8462\n",
      "Epoch 94/100\n",
      "100/100 [==============================] - 59s 594ms/step - loss: 0.2554 - acc: 0.9199 - val_loss: 0.7486 - val_acc: 0.8290\n",
      "Epoch 95/100\n",
      "100/100 [==============================] - 66s 660ms/step - loss: 0.3077 - acc: 0.9033 - val_loss: 0.8855 - val_acc: 0.8226\n",
      "Epoch 96/100\n",
      "100/100 [==============================] - 48s 481ms/step - loss: 0.2934 - acc: 0.9127 - val_loss: 0.8624 - val_acc: 0.8042\n",
      "Epoch 97/100\n",
      "100/100 [==============================] - 47s 473ms/step - loss: 0.2690 - acc: 0.9133 - val_loss: 0.8067 - val_acc: 0.8296\n",
      "Epoch 98/100\n",
      "100/100 [==============================] - 47s 468ms/step - loss: 0.2678 - acc: 0.9114 - val_loss: 0.7701 - val_acc: 0.8309\n",
      "Epoch 99/100\n",
      "100/100 [==============================] - 47s 469ms/step - loss: 0.2529 - acc: 0.9181 - val_loss: 0.7581 - val_acc: 0.8366\n",
      "Epoch 100/100\n",
      "100/100 [==============================] - 47s 469ms/step - loss: 0.2211 - acc: 0.9281 - val_loss: 0.7587 - val_acc: 0.8455\n"
     ]
    }
   ],
   "source": [
    "history=model.fit_generator(\n",
    "    train_generator,\n",
    "    steps_per_epoch=100,\n",
    "    epochs=100,\n",
    "    validation_data=validation_generator,\n",
    "    validation_steps=50)"
   ]
  },
  {
   "cell_type": "markdown",
   "metadata": {},
   "source": [
    "# 데이터아규멘트 및 드롭아웃 사용"
   ]
  },
  {
   "cell_type": "code",
   "execution_count": 8,
   "metadata": {},
   "outputs": [
    {
     "data": {
      "image/png": "[encoded data removed]",
      "text/plain": [
       "<Figure size 432x288 with 1 Axes>"
      ]
     },
     "metadata": {
      "needs_background": "light"
     },
     "output_type": "display_data"
    },
    {
     "data": {
      "image/png": "[encoded data removed]",
      "text/plain": [
       "<Figure size 432x288 with 1 Axes>"
      ]
     },
     "metadata": {
      "needs_background": "light"
     },
     "output_type": "display_data"
    }
   ],
   "source": [
    "import matplotlib.pyplot as plt\n",
    "\n",
    "acc=history.history['acc']\n",
    "val_acc=history.history['val_acc']\n",
    "loss=history.history['loss']\n",
    "val_loss=history.history['val_loss']\n",
    "\n",
    "epochs=range(1, len(acc)+1)\n",
    "\n",
    "plt.plot(epochs, acc, 'bo', label='Training acc')\n",
    "plt.plot(epochs, val_acc, 'b', label='Validation acc')\n",
    "plt.title('Training and validation accuracy')\n",
    "plt.legend()\n",
    "\n",
    "plt.figure()\n",
    "\n",
    "plt.plot(epochs, loss, 'bo', label='Training loss')\n",
    "plt.plot(epochs, val_loss, 'b', label='Validation loss')\n",
    "plt.title('Training and validation loss')\n",
    "plt.legend()\n",
    "\n",
    "\n",
    "plt.show()"
   ]
  },
  {
   "cell_type": "code",
   "execution_count": 16,
   "metadata": {},
   "outputs": [
    {
     "data": {
      "text/plain": [
       "array([[0.28301004, 0.20833595, 0.13807625],\n",
       "       [0.2841131 , 0.2096033 , 0.13725491],\n",
       "       [0.31918225, 0.24270716, 0.1683417 ],\n",
       "       [0.31899408, 0.24290514, 0.16453019],\n",
       "       [0.36826956, 0.27728155, 0.20043401],\n",
       "       [0.40687752, 0.30821308, 0.2460932 ],\n",
       "       [0.44997323, 0.34715793, 0.2883344 ],\n",
       "       [0.47450984, 0.36862746, 0.30980393],\n",
       "       [0.47942334, 0.37211168, 0.31591418],\n",
       "       [0.4823668 , 0.37171856, 0.32083777],\n",
       "       [0.486909  , 0.37246153, 0.32620972],\n",
       "       [0.49975452, 0.37862712, 0.33504862],\n",
       "       [0.5041179 , 0.3812603 , 0.33502978],\n",
       "       [0.5461626 , 0.4100614 , 0.3652407 ],\n",
       "       [0.5562457 , 0.41821745, 0.37092966],\n",
       "       [0.57738894, 0.44027206, 0.38660675],\n",
       "       [0.5796467 , 0.44410953, 0.39006644],\n",
       "       [0.5812687 , 0.4375918 , 0.37947884],\n",
       "       [0.6136234 , 0.46976224, 0.41109765],\n",
       "       [0.5850935 , 0.44775197, 0.38125855],\n",
       "       [0.58545476, 0.44848514, 0.38196108],\n",
       "       [0.61605823, 0.48553073, 0.42241374],\n",
       "       [0.62321484, 0.4826395 , 0.4147705 ],\n",
       "       [0.6455002 , 0.5104892 , 0.43452573],\n",
       "       [0.64961   , 0.52156866, 0.44332698],\n",
       "       [0.64658463, 0.51681286, 0.44368526],\n",
       "       [0.6537065 , 0.5260184 , 0.45151702],\n",
       "       [0.6687104 , 0.5398293 , 0.45870337],\n",
       "       [0.68354857, 0.5482704 , 0.46754366],\n",
       "       [0.69820774, 0.5648744 , 0.485192  ],\n",
       "       [0.7062113 , 0.582234  , 0.49885374],\n",
       "       [0.71749693, 0.60933757, 0.5233316 ],\n",
       "       [0.7210754 , 0.6119636 , 0.52117395],\n",
       "       [0.72156864, 0.60983366, 0.52057344],\n",
       "       [0.7380857 , 0.63412344, 0.53789717],\n",
       "       [0.73403025, 0.6278243 , 0.53514063],\n",
       "       [0.7235775 , 0.6131963 , 0.537779  ],\n",
       "       [0.7181623 , 0.61227995, 0.52600545],\n",
       "       [0.71442115, 0.60784316, 0.5226121 ],\n",
       "       [0.72445416, 0.6118828 , 0.5367959 ],\n",
       "       [0.7427892 , 0.63690686, 0.5608945 ],\n",
       "       [0.7490196 , 0.6431373 , 0.5764706 ],\n",
       "       [0.7482227 , 0.64322543, 0.56958205],\n",
       "       [0.74928004, 0.6469788 , 0.57136637],\n",
       "       [0.7474013 , 0.64034194, 0.5701922 ],\n",
       "       [0.7653866 , 0.6631807 , 0.60170364],\n",
       "       [0.7725491 , 0.6745098 , 0.6156863 ],\n",
       "       [0.7749603 , 0.676921  , 0.6180975 ],\n",
       "       [0.7738301 , 0.67051   , 0.61168647],\n",
       "       [0.77828854, 0.6752759 , 0.6135826 ],\n",
       "       [0.7803922 , 0.6784314 , 0.6156863 ],\n",
       "       [0.80036175, 0.70172924, 0.63898414],\n",
       "       [0.80392164, 0.70232487, 0.6324647 ],\n",
       "       [0.8114952 , 0.7095344 , 0.6351594 ],\n",
       "       [0.82745105, 0.7372549 , 0.6666667 ],\n",
       "       [0.82809854, 0.7372549 , 0.66731423],\n",
       "       [0.83750623, 0.7416791 , 0.678934  ],\n",
       "       [0.85098046, 0.7686275 , 0.7066647 ],\n",
       "       [0.85098046, 0.7686275 , 0.70980394],\n",
       "       [0.8460172 , 0.7599418 , 0.7011183 ],\n",
       "       [0.8397044 , 0.7485269 , 0.68970335],\n",
       "       [0.8572549 , 0.7743791 , 0.71725494],\n",
       "       [0.8609453 , 0.7805853 , 0.72568333],\n",
       "       [0.85098046, 0.7686275 , 0.7137255 ],\n",
       "       [0.8700775 , 0.7972731 , 0.74475825],\n",
       "       [0.8797366 , 0.81306994, 0.7673223 ],\n",
       "       [0.8869684 , 0.82599306, 0.78001016],\n",
       "       [0.89019614, 0.8313726 , 0.7843138 ],\n",
       "       [0.8935003 , 0.84128517, 0.7975306 ],\n",
       "       [0.89765114, 0.8431373 , 0.8000001 ],\n",
       "       [0.9055647 , 0.86195093, 0.8225764 ],\n",
       "       [0.91372555, 0.882353  , 0.86666673],\n",
       "       [0.9140252 , 0.88265264, 0.86666673],\n",
       "       [0.91711813, 0.8857456 , 0.8656088 ],\n",
       "       [0.91524196, 0.8853859 , 0.8641311 ],\n",
       "       [0.92354363, 0.89902675, 0.887262  ],\n",
       "       [0.9294118 , 0.90196085, 0.89019614],\n",
       "       [0.9265198 , 0.89906883, 0.88585806],\n",
       "       [0.9215687 , 0.8941177 , 0.87843144],\n",
       "       [0.9215687 , 0.89792675, 0.8822405 ],\n",
       "       [0.9215687 , 0.90196085, 0.8862746 ],\n",
       "       [0.9192056 , 0.8972347 , 0.8815484 ],\n",
       "       [0.9150548 , 0.88893306, 0.8706544 ],\n",
       "       [0.91090393, 0.8721666 , 0.8497371 ],\n",
       "       [0.9006514 , 0.84836155, 0.8126287 ],\n",
       "       [0.8980393 , 0.8431373 , 0.80392164],\n",
       "       [0.8910205 , 0.8255904 , 0.7828653 ],\n",
       "       [0.8528096 , 0.7786656 , 0.7205737 ],\n",
       "       [0.7254902 , 0.68235296, 0.64705884],\n",
       "       [0.7017874 , 0.6569965 , 0.62583655],\n",
       "       [0.38015726, 0.30995643, 0.33298096],\n",
       "       [0.35999495, 0.27688944, 0.29429486],\n",
       "       [0.48090172, 0.44271737, 0.45248732],\n",
       "       [0.3921569 , 0.34509805, 0.36078432],\n",
       "       [0.45472214, 0.42472658, 0.43045926],\n",
       "       [0.66377807, 0.6571732 , 0.63219887],\n",
       "       [0.8902624 , 0.87833714, 0.8540045 ],\n",
       "       [0.98823535, 0.9803922 , 0.97647065],\n",
       "       [0.9952524 , 0.9920872 , 0.9905046 ],\n",
       "       [1.        , 1.        , 1.        ],\n",
       "       [1.        , 1.        , 1.        ],\n",
       "       [1.        , 1.        , 1.        ],\n",
       "       [1.        , 1.        , 1.        ],\n",
       "       [1.        , 1.        , 1.        ],\n",
       "       [1.        , 1.        , 1.        ],\n",
       "       [1.        , 1.        , 1.        ],\n",
       "       [0.9896867 , 0.9899383 , 0.9906929 ],\n",
       "       [0.831042  , 0.83496356, 0.84672827],\n",
       "       [0.7768095 , 0.7821512 , 0.7924958 ],\n",
       "       [0.79513913, 0.80690384, 0.8117648 ],\n",
       "       [0.79215693, 0.80392164, 0.8117648 ],\n",
       "       [0.8005441 , 0.8095131 , 0.8159583 ],\n",
       "       [0.81243205, 0.8163536 , 0.8186481 ],\n",
       "       [0.80598676, 0.80805194, 0.80990833],\n",
       "       [0.80392164, 0.80392164, 0.8078432 ],\n",
       "       [0.8108664 , 0.8131813 , 0.814788  ],\n",
       "       [0.81568635, 0.8170637 , 0.8221521 ],\n",
       "       [0.8101394 , 0.8129129 , 0.8235295 ],\n",
       "       [0.80183774, 0.8057593 , 0.8235295 ],\n",
       "       [0.8000001 , 0.80392164, 0.8235295 ],\n",
       "       [0.8000001 , 0.8108441 , 0.82699066],\n",
       "       [0.80369055, 0.8117648 , 0.8311416 ],\n",
       "       [0.7882425 , 0.79608566, 0.8117737 ],\n",
       "       [0.8000001 , 0.8078432 , 0.8196079 ],\n",
       "       [0.8000001 , 0.80738646, 0.8196079 ],\n",
       "       [0.79862803, 0.80323565, 0.8182359 ],\n",
       "       [0.7875806 , 0.79542375, 0.80718845],\n",
       "       [0.7725491 , 0.7803922 , 0.79215693],\n",
       "       [0.7835395 , 0.7913826 , 0.8045211 ],\n",
       "       [0.8071278 , 0.8149709 , 0.8290541 ],\n",
       "       [0.80810004, 0.8159432 , 0.8277079 ],\n",
       "       [0.80392164, 0.8117648 , 0.8255911 ],\n",
       "       [0.80392164, 0.8117648 , 0.82745105],\n",
       "       [0.8014015 , 0.80924463, 0.82745105],\n",
       "       [0.8000001 , 0.8105926 , 0.82745105],\n",
       "       [0.808936  , 0.8177221 , 0.83340836],\n",
       "       [0.8117648 , 0.8196079 , 0.8352942 ],\n",
       "       [0.7980161 , 0.8058592 , 0.81810826],\n",
       "       [0.80341136, 0.80758804, 0.81935275],\n",
       "       [0.81171304, 0.8156346 , 0.8312951 ],\n",
       "       [0.82745105, 0.82745105, 0.83921576],\n",
       "       [0.8265857 , 0.8265857 , 0.838783  ],\n",
       "       [0.8196079 , 0.8196079 , 0.8352942 ],\n",
       "       [0.8196079 , 0.8196079 , 0.8352942 ],\n",
       "       [0.8196079 , 0.8196079 , 0.8352942 ],\n",
       "       [0.8196079 , 0.8196079 , 0.8352942 ],\n",
       "       [0.8196079 , 0.8196079 , 0.8352942 ],\n",
       "       [0.8196079 , 0.8196079 , 0.8352942 ],\n",
       "       [0.8196079 , 0.8196079 , 0.8352942 ],\n",
       "       [0.8196079 , 0.8196079 , 0.8352942 ]], dtype=float32)"
      ]
     },
     "execution_count": 16,
     "metadata": {},
     "output_type": "execute_result"
    }
   ],
   "source": [
    "train_generator[0][0][0][0]"
   ]
  },
  {
   "cell_type": "code",
   "execution_count": 9,
   "metadata": {},
   "outputs": [
    {
     "name": "stdout",
     "output_type": "stream",
     "text": [
      "Found 498 images belonging to 7 classes.\n"
     ]
    }
   ],
   "source": [
    "test_generator=test_datagen.flow_from_directory(\n",
    "    test_dir,\n",
    "    target_size=(150, 150),\n",
    "    batch_size=32,\n",
    "    class_mode='categorical')"
   ]
  },
  {
   "cell_type": "code",
   "execution_count": 11,
   "metadata": {},
   "outputs": [],
   "source": [
    "model.save(\"knaivesji.h5\")"
   ]
  },
  {
   "cell_type": "code",
   "execution_count": 12,
   "metadata": {},
   "outputs": [],
   "source": [
    "# from keras.models import load_model\n",
    "# import numpy as np\n",
    "# model=load_model(\"knaivesji.h5\")"
   ]
  },
  {
   "cell_type": "code",
   "execution_count": 40,
   "metadata": {},
   "outputs": [],
   "source": [
    "import pandas as pd"
   ]
  },
  {
   "cell_type": "code",
   "execution_count": 13,
   "metadata": {},
   "outputs": [],
   "source": [
    "results=model.evaluate_generator(test_generator, steps=50)"
   ]
  },
  {
   "cell_type": "code",
   "execution_count": 14,
   "metadata": {},
   "outputs": [],
   "source": [
    "pre=model.predict_generator(test_generator, steps=50)"
   ]
  },
  {
   "cell_type": "code",
   "execution_count": 70,
   "metadata": {},
   "outputs": [],
   "source": [
    "ycor=[]\n",
    "for i in pre:\n",
    "    ycor.append(i)"
   ]
  },
  {
   "cell_type": "code",
   "execution_count": 71,
   "metadata": {},
   "outputs": [
    {
     "data": {
      "text/plain": [
       "1504"
      ]
     },
     "execution_count": 71,
     "metadata": {},
     "output_type": "execute_result"
    }
   ],
   "source": [
    "len(ycor)"
   ]
  },
  {
   "cell_type": "code",
   "execution_count": 73,
   "metadata": {},
   "outputs": [],
   "source": [
    "ycorda=pd.DataFrame(ycor, columns={'y'})"
   ]
  },
  {
   "cell_type": "code",
   "execution_count": 75,
   "metadata": {},
   "outputs": [
    {
     "data": {
      "text/html": [
       "<div>\n",
       "<style scoped>\n",
       "    .dataframe tbody tr th:only-of-type {\n",
       "        vertical-align: middle;\n",
       "    }\n",
       "\n",
       "    .dataframe tbody tr th {\n",
       "        vertical-align: top;\n",
       "    }\n",
       "\n",
       "    .dataframe thead th {\n",
       "        text-align: right;\n",
       "    }\n",
       "</style>\n",
       "<table border=\"1\" class=\"dataframe\">\n",
       "  <thead>\n",
       "    <tr style=\"text-align: right;\">\n",
       "      <th></th>\n",
       "      <th>y</th>\n",
       "    </tr>\n",
       "  </thead>\n",
       "  <tbody>\n",
       "    <tr>\n",
       "      <td>0</td>\n",
       "      <td>0.999971</td>\n",
       "    </tr>\n",
       "    <tr>\n",
       "      <td>1</td>\n",
       "      <td>1.000000</td>\n",
       "    </tr>\n",
       "    <tr>\n",
       "      <td>2</td>\n",
       "      <td>1.000000</td>\n",
       "    </tr>\n",
       "    <tr>\n",
       "      <td>3</td>\n",
       "      <td>1.000000</td>\n",
       "    </tr>\n",
       "    <tr>\n",
       "      <td>7</td>\n",
       "      <td>1.000000</td>\n",
       "    </tr>\n",
       "    <tr>\n",
       "      <td>...</td>\n",
       "      <td>...</td>\n",
       "    </tr>\n",
       "    <tr>\n",
       "      <td>1492</td>\n",
       "      <td>0.999954</td>\n",
       "    </tr>\n",
       "    <tr>\n",
       "      <td>1493</td>\n",
       "      <td>0.999856</td>\n",
       "    </tr>\n",
       "    <tr>\n",
       "      <td>1496</td>\n",
       "      <td>0.999906</td>\n",
       "    </tr>\n",
       "    <tr>\n",
       "      <td>1500</td>\n",
       "      <td>1.000000</td>\n",
       "    </tr>\n",
       "    <tr>\n",
       "      <td>1501</td>\n",
       "      <td>0.999993</td>\n",
       "    </tr>\n",
       "  </tbody>\n",
       "</table>\n",
       "<p>654 rows × 1 columns</p>\n",
       "</div>"
      ],
      "text/plain": [
       "             y\n",
       "0     0.999971\n",
       "1     1.000000\n",
       "2     1.000000\n",
       "3     1.000000\n",
       "7     1.000000\n",
       "...        ...\n",
       "1492  0.999954\n",
       "1493  0.999856\n",
       "1496  0.999906\n",
       "1500  1.000000\n",
       "1501  0.999993\n",
       "\n",
       "[654 rows x 1 columns]"
      ]
     },
     "execution_count": 75,
     "metadata": {},
     "output_type": "execute_result"
    }
   ],
   "source": [
    "ycorda[ycorda['y'] > 0.5]"
   ]
  },
  {
   "cell_type": "code",
   "execution_count": 74,
   "metadata": {},
   "outputs": [
    {
     "data": {
      "text/html": [
       "<div>\n",
       "<style scoped>\n",
       "    .dataframe tbody tr th:only-of-type {\n",
       "        vertical-align: middle;\n",
       "    }\n",
       "\n",
       "    .dataframe tbody tr th {\n",
       "        vertical-align: top;\n",
       "    }\n",
       "\n",
       "    .dataframe thead th {\n",
       "        text-align: right;\n",
       "    }\n",
       "</style>\n",
       "<table border=\"1\" class=\"dataframe\">\n",
       "  <thead>\n",
       "    <tr style=\"text-align: right;\">\n",
       "      <th></th>\n",
       "      <th>y</th>\n",
       "    </tr>\n",
       "  </thead>\n",
       "  <tbody>\n",
       "    <tr>\n",
       "      <td>0</td>\n",
       "      <td>9.999714e-01</td>\n",
       "    </tr>\n",
       "    <tr>\n",
       "      <td>1</td>\n",
       "      <td>1.000000e+00</td>\n",
       "    </tr>\n",
       "    <tr>\n",
       "      <td>2</td>\n",
       "      <td>1.000000e+00</td>\n",
       "    </tr>\n",
       "    <tr>\n",
       "      <td>3</td>\n",
       "      <td>1.000000e+00</td>\n",
       "    </tr>\n",
       "    <tr>\n",
       "      <td>4</td>\n",
       "      <td>3.665686e-06</td>\n",
       "    </tr>\n",
       "    <tr>\n",
       "      <td>...</td>\n",
       "      <td>...</td>\n",
       "    </tr>\n",
       "    <tr>\n",
       "      <td>1499</td>\n",
       "      <td>1.290739e-04</td>\n",
       "    </tr>\n",
       "    <tr>\n",
       "      <td>1500</td>\n",
       "      <td>1.000000e+00</td>\n",
       "    </tr>\n",
       "    <tr>\n",
       "      <td>1501</td>\n",
       "      <td>9.999933e-01</td>\n",
       "    </tr>\n",
       "    <tr>\n",
       "      <td>1502</td>\n",
       "      <td>6.854534e-07</td>\n",
       "    </tr>\n",
       "    <tr>\n",
       "      <td>1503</td>\n",
       "      <td>0.000000e+00</td>\n",
       "    </tr>\n",
       "  </tbody>\n",
       "</table>\n",
       "<p>1504 rows × 1 columns</p>\n",
       "</div>"
      ],
      "text/plain": [
       "                 y\n",
       "0     9.999714e-01\n",
       "1     1.000000e+00\n",
       "2     1.000000e+00\n",
       "3     1.000000e+00\n",
       "4     3.665686e-06\n",
       "...            ...\n",
       "1499  1.290739e-04\n",
       "1500  1.000000e+00\n",
       "1501  9.999933e-01\n",
       "1502  6.854534e-07\n",
       "1503  0.000000e+00\n",
       "\n",
       "[1504 rows x 1 columns]"
      ]
     },
     "execution_count": 74,
     "metadata": {},
     "output_type": "execute_result"
    }
   ],
   "source": [
    "ycorda"
   ]
  },
  {
   "cell_type": "code",
   "execution_count": 15,
   "metadata": {},
   "outputs": [
    {
     "data": {
      "text/plain": [
       "0.8401797175866496"
      ]
     },
     "execution_count": 15,
     "metadata": {},
     "output_type": "execute_result"
    }
   ],
   "source": [
    "results[1]"
   ]
  },
  {
   "cell_type": "code",
   "execution_count": 97,
   "metadata": {},
   "outputs": [
    {
     "data": {
      "text/plain": [
       "{'chirstopher': 0,\n",
       " 'creig': 1,\n",
       " 'evans': 2,\n",
       " 'michael': 3,\n",
       " 'stanfield': 4,\n",
       " 'toni': 5,\n",
       " 'unknown': 6}"
      ]
     },
     "execution_count": 97,
     "metadata": {},
     "output_type": "execute_result"
    }
   ],
   "source": [
    "test_generator.class_indices"
   ]
  },
  {
   "cell_type": "code",
   "execution_count": 1,
   "metadata": {},
   "outputs": [
    {
     "ename": "NameError",
     "evalue": "name 'history' is not defined",
     "output_type": "error",
     "traceback": [
      "\u001b[1;31m---------------------------------------------------------------------------\u001b[0m",
      "\u001b[1;31mNameError\u001b[0m                                 Traceback (most recent call last)",
      "\u001b[1;32m<ipython-input-1-bf7714a24a30>\u001b[0m in \u001b[0;36m<module>\u001b[1;34m\u001b[0m\n\u001b[1;32m----> 1\u001b[1;33m \u001b[0mhistory\u001b[0m\u001b[1;33m.\u001b[0m\u001b[0mhistory\u001b[0m\u001b[1;33m[\u001b[0m\u001b[1;34m'acc'\u001b[0m\u001b[1;33m]\u001b[0m\u001b[1;33m\u001b[0m\u001b[1;33m\u001b[0m\u001b[0m\n\u001b[0m",
      "\u001b[1;31mNameError\u001b[0m: name 'history' is not defined"
     ]
    }
   ],
   "source": [
    "history.history['acc']"
   ]
  },
  {
   "cell_type": "code",
   "execution_count": null,
   "metadata": {},
   "outputs": [],
   "source": [
    "model.save('creig_and_evans.3')"
   ]
  }
 ],
 "metadata": {
  "kernelspec": {
   "display_name": "Python 3",
   "language": "python",
   "name": "python3"
  },
  "language_info": {
   "codemirror_mode": {
    "name": "ipython",
    "version": 3
   },
   "file_extension": ".py",
   "mimetype": "text/x-python",
   "name": "python",
   "nbconvert_exporter": "python",
   "pygments_lexer": "ipython3",
   "version": "3.7.3"
  }
 },
 "nbformat": 4,
 "nbformat_minor": 2
}
