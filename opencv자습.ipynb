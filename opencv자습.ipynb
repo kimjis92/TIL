{
 "cells": [
  {
   "cell_type": "code",
   "execution_count": 14,
   "metadata": {},
   "outputs": [
    {
     "name": "stdout",
     "output_type": "stream",
     "text": [
      "0 [ 2 -1  1 -1]\n",
      "1 [-1 -1 -1  0]\n",
      "2 [ 4  0  3 -1]\n",
      "3 [-1 -1 -1  2]\n",
      "4 [ 6  2  5 -1]\n",
      "5 [-1 -1 -1  4]\n",
      "6 [ 8  4  7 -1]\n",
      "7 [-1 -1 -1  6]\n",
      "8 [ 9  6 -1 -1]\n",
      "9 [10  8 -1 -1]\n",
      "10 [11  9 -1 -1]\n",
      "11 [-1 10 -1 -1]\n"
     ]
    }
   ],
   "source": [
    "import cv2\n",
    "\n",
    "src = cv2.imread(\"Image/contours.png\", cv2.IMREAD_COLOR)\n",
    "\n",
    "gray = cv2.cvtColor(src, cv2.COLOR_RGB2GRAY)\n",
    "ret, binary = cv2.threshold(gray, 127, 255, cv2.THRESH_BINARY)\n",
    "binary = cv2.bitwise_not(binary)\n",
    "\n",
    "_,contours, hierachy = cv2.findContours(binary, cv2.RETR_CCOMP, cv2.CHAIN_APPROX_NONE)\n",
    "\n",
    "for i in range(len(contours)):\n",
    "    cv2.drawContours(src, [contours[i]], 0, (0, 0, 255), 2)\n",
    "    cv2.putText(src, str(i), tuple(contours[i][0][0]), cv2.FONT_HERSHEY_COMPLEX, 0.8, (0, 255, 0), 1)\n",
    "    print(i, hierachy[0][i])\n",
    "    cv2.imshow(\"src\", src)\n",
    "    cv2.waitKey(0)\n",
    "\n",
    "cv2.destroyAllWindows()"
   ]
  },
  {
   "cell_type": "code",
   "execution_count": 18,
   "metadata": {},
   "outputs": [],
   "source": [
    "cv2.imshow(\"asdf\",gray)\n",
    "cv2.waitKey(0)\n",
    "cv2.destroyAllWindows()"
   ]
  },
  {
   "cell_type": "code",
   "execution_count": 15,
   "metadata": {},
   "outputs": [
    {
     "name": "stdout",
     "output_type": "stream",
     "text": [
      "(335, 720, 3)\n",
      "(12,)\n",
      "(512, 1, 2)\n"
     ]
    }
   ],
   "source": [
    "import numpy as np\n",
    "print(np.shape(src))\n",
    "print(np.shape(contours))\n",
    "print(np.shape(contours[0]))"
   ]
  },
  {
   "cell_type": "code",
   "execution_count": 16,
   "metadata": {},
   "outputs": [
    {
     "data": {
      "text/plain": [
       "(263, 173)"
      ]
     },
     "execution_count": 16,
     "metadata": {},
     "output_type": "execute_result"
    }
   ],
   "source": [
    " tuple(contours[5][0][0])"
   ]
  },
  {
   "cell_type": "markdown",
   "metadata": {},
   "source": [
    "* cv2.cvtColor : 색을 바꿔주는 함수\n",
    "<br>\n",
    "\n",
    "* cv2.threshold : cv2.threshold(src, 127, 255, cv2.THRESH_BINARY) --> src(소스)를 127이 넘으면 255로 바꾸겠다는 뜻이고 cv2.THRESH_BINARY는 이진형태 즉 127 임계값을 넘으면 255로 아니면 0으로 이진화 시킨다는 것이다. cv2.THRESH_BINARY_INV는 INV가 인버터로 127을 넘으면0  안넘으면 255로 하는것이다. \n",
    "    + return 값은 retval과 변환된 이미지이다 retval은 최적의 임계값인데 cv2.THRESH_OTSU를 쓰지 않으면 의미없다\n",
    "    \n",
    "<br>\n",
    "\n",
    "* cv2.bitwise_not(binary) : 논리회로에서 배웠던 not 연산을 각 픽셀마다 작용하는것 cv2.THRESH_BINARY을 쓰고 이 함수를 쓰면 cv2.THRESH_BINARY_INV쓴것과 동일\n",
    "<br>\n",
    "\n",
    "* cv2.findContours : 윤곽선의 점을 찾아준다 리턴값은 image와 contours, hierarchy로 hierarchy는 계층 이며 cv2.RETR_CCOMP는 어떤 계층형식으로 표현할건지를 cv2.CHAIN_APPROX_NONE는 어떤 윤곽선들을 저장할것인지를 나타낸다\n",
    "<br>\n",
    "\n",
    "* cv2.drawContours(src, [contours[i]], 0, (0, 0, 255), 2) : \n",
    "    + src : 바탕 이미지 \n",
    "    + [contours[i]] : 포인트벡터로 저장된 그릴 컨투어들 \n",
    "    + 0 : 그릴 컨투어의 인덱스인데 0또는 -1이면 모두 다그린다는 뜻\n",
    "    + (0, 0, 255) : 무슨색으로 그릴것인지\n",
    "    + 2 : 그릴 컨투어의 두께\n",
    "<br >\n",
    "\n",
    "* cv2.putText(src, str(i), tuple(contours[i][0][0]), cv2.FONT_HERSHEY_COMPLEX, 0.8, (0, 255, 0), 1) : \n",
    "    + src : 바탕 이미지\n",
    "    + str(i) : 그릴 텍스트\n",
    "    + tuple(contours[i][0][0]) : 위치\n",
    "    + cv2.FONT_HERSHEY_COMPLEX : 폰트타입\n",
    "    + 0.8 : 폰트크기\n",
    "    + (0, 255, 0) : 색깔\n",
    "    + 1 : 두께\n",
    "    \n",
    "<br >\n",
    "    \n",
    "#### Adaptive Thresholding\n",
    "*  하나의 이미지에 다수의 조명 상태가 존재하는 경우 적용하면 좋은 결과를 얻을 수 있다. 반면 단일 값 임계값을 적용시에는 좋은 결과를 얻었던 입력 이미지에 adaptiveThreshold 함수를 사용해보면 원하는 결과를 얻을 수 없다.\n",
    "![사진](./screenshot/src.png)\n",
    "![사진](./screenshot/bicon.png)\n",
    "![사진](./screenshot/adcon.png)\n",
    "\n",
    "\n"
   ]
  },
  {
   "cell_type": "markdown",
   "metadata": {},
   "source": [
    "## 필터에 대한 이해\n",
    "https://webnautes.tistory.com/1255 사이트 참조\n",
    "* 이미지 경계찾기 : https://m.blog.naver.com/pk3152/221444839524 사이트 참조"
   ]
  },
  {
   "cell_type": "code",
   "execution_count": 20,
   "metadata": {},
   "outputs": [],
   "source": [
    "import cv2\n",
    "\n",
    "src = cv2.imread(\"Image/man.png\", cv2.IMREAD_COLOR)\n",
    "gray = cv2.cvtColor(src, cv2.COLOR_RGB2GRAY)\n",
    "cv2.imshow(\"gray1\", gray)\n",
    "cv2.waitKey(0)\n",
    "gray2=cv2.blur(gray, (3, 3))\n",
    "\n",
    "gray = cv2.GaussianBlur(gray, (3, 3), 0) # 가우시안 블러로 노이즈 제거\n",
    "\n",
    "# gray3=cv2.medianBlur(gray, 3)\n",
    "\n",
    "# gray4=cv2.bilateralFilter(gray,3, 75, 75)\n",
    "\n",
    "gray = cv2.Canny(gray, 75, 200)    # 케니 엣지로 경계 검출\n",
    "cv2.imshow(\"gaussianblur\", gray)\n",
    "cv2.waitKey(0)\n",
    "# gray2 = cv2.Canny(gray2, 75, 200)    # 케니 엣지로 경계 검출\n",
    "# cv2.imshow(\"blur\", gray2)\n",
    "# cv2.waitKey(0)\n",
    "# gray3=cv2.Canny(gray3, 75, 200)\n",
    "# cv2.imshow(\"medianblur\", gray3)\n",
    "# cv2.waitKey(0)\n",
    "# gray4=cv2.Canny(gray4, 75, 200)\n",
    "# cv2.imshow(\"bilaterblur\", gray4)\n",
    "# cv2.waitKey(0)\n",
    "# ret, binary = cv2.threshold(gray, 127, 255, cv2.THRESH_BINARY)\n",
    "# #binary = cv2.bitwise_not(binary)\n",
    "# cv2.imshow(\"gray4\", binary)\n",
    "# cv2.waitKey(0)\n",
    "\n",
    "_,contours, hierachy = cv2.findContours(gray, cv2.RETR_CCOMP, cv2.CHAIN_APPROX_NONE)\n",
    "\n",
    "for i in range(len(contours)):\n",
    "    cv2.drawContours(src, [contours[i]], 0, (0, 255, 0), 2)\n",
    "#     cv2.putText(src, str(i), tuple(contours[i][0][0]), cv2.FONT_HERSHEY_COMPLEX, 0.8, (0, 255, 0), 1)\n",
    "#     print(i, hierachy[0][i])\n",
    "#     cv2.imshow(\"src\", src)\n",
    "#     cv2.waitKey(0)\n",
    "# cv2.drawContours(src, contours, 0, (0, 0, 255), 2)\n",
    "cv2.imshow(\"adsfff\", src)\n",
    "cv2.waitKey(0)\n",
    "\n",
    "cv2.destroyAllWindows()"
   ]
  },
  {
   "cell_type": "code",
   "execution_count": null,
   "metadata": {},
   "outputs": [],
   "source": []
  },
  {
   "cell_type": "code",
   "execution_count": null,
   "metadata": {},
   "outputs": [],
   "source": []
  }
 ],
 "metadata": {
  "kernelspec": {
   "display_name": "Python 3",
   "language": "python",
   "name": "python3"
  },
  "language_info": {
   "codemirror_mode": {
    "name": "ipython",
    "version": 3
   },
   "file_extension": ".py",
   "mimetype": "text/x-python",
   "name": "python",
   "nbconvert_exporter": "python",
   "pygments_lexer": "ipython3",
   "version": "3.7.3"
  }
 },
 "nbformat": 4,
 "nbformat_minor": 2
}
